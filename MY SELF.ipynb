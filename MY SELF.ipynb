{
 "cells": [
  {
   "cell_type": "code",
   "execution_count": 2,
   "id": "4923120a",
   "metadata": {},
   "outputs": [
    {
     "name": "stdout",
     "output_type": "stream",
     "text": [
      "😀 MY SELF.🤗\n",
      "\t My name is Dipika Yogesh Bhangale👩.My age is 24 years.I stay in Kalyan with my husbund👦,father in law👦 and mother in law👩 I have completed diploma and graduation from K.C.E college of engineering,jalgaon🏛 and passout year is 2020.\n",
      "I love programming and favourite languages are Python,Machine learning,etc.\n",
      " \tI love listening to music lower stress and elevates mood and also visiting the forest places🌲.\n",
      "\tMy long term goal is successfull women in my lifeand which provide me with the opportunity to improve my skill and knowledge.\n"
     ]
    }
   ],
   "source": [
    "a=\"\\U0001f600 MY SELF.\\U0001f917\"\n",
    "b=\"\\t My name is Dipika Yogesh Bhangale\\U0001f469.My age is 24 years.I stay in Kalyan with my husbund\\U0001f466,father in law\\U0001f466 and mother in law\\U0001f469\"\n",
    "c=\"I have completed diploma and graduation from K.C.E college of engineering,jalgaon\\U0001f3db and passout year is 2020.\"\n",
    "d=\"I love programming and favourite languages are Python,Machine learning,etc.\\n\"\n",
    "e=\"\\tI love listening to music lower stress and elevates mood and also visiting the forest places\\U0001F332.\"\n",
    "f=\"\\tMy long term goal is successfull women in my lifeand which provide me with the opportunity to improve my skill and knowledge.\"\n",
    "print(a)\n",
    "print(b,c)\n",
    "print(d,e)\n",
    "print(f)"
   ]
  },
  {
   "cell_type": "code",
   "execution_count": null,
   "id": "8363e21c",
   "metadata": {},
   "outputs": [],
   "source": []
  }
 ],
 "metadata": {
  "kernelspec": {
   "display_name": "Python 3 (ipykernel)",
   "language": "python",
   "name": "python3"
  },
  "language_info": {
   "codemirror_mode": {
    "name": "ipython",
    "version": 3
   },
   "file_extension": ".py",
   "mimetype": "text/x-python",
   "name": "python",
   "nbconvert_exporter": "python",
   "pygments_lexer": "ipython3",
   "version": "3.9.7"
  }
 },
 "nbformat": 4,
 "nbformat_minor": 5
}
