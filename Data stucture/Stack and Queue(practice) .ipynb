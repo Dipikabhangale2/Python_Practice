{
 "cells": [
  {
   "cell_type": "markdown",
   "id": "9211df08",
   "metadata": {},
   "source": [
    "# Implementation of Stack and Queue using list "
   ]
  },
  {
   "cell_type": "markdown",
   "id": "e822d275",
   "metadata": {},
   "source": [
    "# 1.Stack (last in /first out)"
   ]
  },
  {
   "cell_type": "code",
   "execution_count": 4,
   "id": "62dc40f5",
   "metadata": {},
   "outputs": [
    {
     "name": "stdout",
     "output_type": "stream",
     "text": [
      "['Amar', 'Akbar', 'Anthony', 'Ram', 'Iqbal']\n"
     ]
    }
   ],
   "source": [
    "#working of append() and pop() function\n",
    "stack=[\"Amar\",\"Akbar\",\"Anthony\"]\n",
    "stack.append(\"Ram\")\n",
    "stack.append(\"Iqbal\")\n",
    "print(stack)"
   ]
  },
  {
   "cell_type": "code",
   "execution_count": 5,
   "id": "ad4f10fa",
   "metadata": {},
   "outputs": [
    {
     "name": "stdout",
     "output_type": "stream",
     "text": [
      "Iqbal\n",
      "Ram\n",
      "['Amar', 'Akbar', 'Anthony']\n"
     ]
    }
   ],
   "source": [
    "#remove the last item\n",
    "print(stack.pop())\n",
    "print(stack.pop())\n",
    "print(stack)"
   ]
  },
  {
   "cell_type": "code",
   "execution_count": 8,
   "id": "e427d432",
   "metadata": {},
   "outputs": [
    {
     "name": "stdout",
     "output_type": "stream",
     "text": [
      "['banana', 'grapes', 'mango', 'orange']\n",
      "orange\n",
      "['banana', 'grapes', 'mango']\n",
      "mango\n",
      "['banana', 'grapes']\n"
     ]
    }
   ],
   "source": [
    "fruits=[]\n",
    "\n",
    "fruits.append('banana')\n",
    "fruits.append('grapes')\n",
    "fruits.append('mango')\n",
    "fruits.append('orange')\n",
    "print(fruits)\n",
    " \n",
    "first_item=fruits.pop()\n",
    "print(first_item)\n",
    "print(fruits)\n",
    "\n",
    "first_item=fruits.pop()\n",
    "print(first_item)\n",
    "print(fruits)"
   ]
  },
  {
   "cell_type": "markdown",
   "id": "87e6bbfc",
   "metadata": {},
   "source": [
    "# 2.Queue (first in/ first out)"
   ]
  },
  {
   "cell_type": "code",
   "execution_count": 9,
   "id": "d70b07fd",
   "metadata": {},
   "outputs": [
    {
     "name": "stdout",
     "output_type": "stream",
     "text": [
      "['Amar', 'Akbar', 'Anthony', 'Ram', 'Iqbal']\n",
      "Amar\n",
      "['Akbar', 'Anthony', 'Ram', 'Iqbal']\n",
      "Akbar\n",
      "['Anthony', 'Ram', 'Iqbal']\n"
     ]
    }
   ],
   "source": [
    "queue=[\"Amar\",\"Akbar\",\"Anthony\"]\n",
    "queue.append(\"Ram\")\n",
    "queue.append(\"Iqbal\")\n",
    "print(queue)\n",
    "\n",
    "print(queue.pop(0))\n",
    "print(queue)\n",
    "\n",
    "print(queue.pop(0))\n",
    "print(queue)"
   ]
  },
  {
   "cell_type": "code",
   "execution_count": 10,
   "id": "3137eda7",
   "metadata": {},
   "outputs": [
    {
     "name": "stdout",
     "output_type": "stream",
     "text": [
      "['banana', 'grapes', 'mango', 'orange']\n",
      "banana\n",
      "['grapes', 'mango', 'orange']\n",
      "grapes\n",
      "['mango', 'orange']\n"
     ]
    }
   ],
   "source": [
    "fruits=[]\n",
    "\n",
    "fruits.append('banana')\n",
    "fruits.append('grapes')\n",
    "fruits.append('mango')\n",
    "fruits.append('orange')\n",
    "print(fruits)\n",
    " \n",
    "first_item=fruits.pop(0)\n",
    "print(first_item)\n",
    "print(fruits)\n",
    "\n",
    "first_item=fruits.pop(0)\n",
    "print(first_item)\n",
    "print(fruits)"
   ]
  },
  {
   "cell_type": "markdown",
   "id": "b0bd747e",
   "metadata": {},
   "source": [
    "# use of zip"
   ]
  },
  {
   "cell_type": "code",
   "execution_count": 11,
   "id": "c4126833",
   "metadata": {
    "scrolled": true
   },
   "outputs": [
    {
     "name": "stdout",
     "output_type": "stream",
     "text": [
      "[('Dipika', 3), ('Nikita', 2), ('Monika', 4), ('pooja', 1)]\n"
     ]
    }
   ],
   "source": [
    "name=[\"Dipika\",\"Nikita\",\"Monika\",\"pooja\"]\n",
    "roll_no=[3,2,4,1]\n",
    "#using zip() to map values\n",
    "mapped=zip(name,roll_no)\n",
    "mapped=list(mapped)\n",
    "print(mapped)"
   ]
  },
  {
   "cell_type": "code",
   "execution_count": 12,
   "id": "af69ed4d",
   "metadata": {
    "scrolled": false
   },
   "outputs": [
    {
     "name": "stdout",
     "output_type": "stream",
     "text": [
      "[1, 2, 3]\n"
     ]
    }
   ],
   "source": [
    "#using list constructor\n",
    "my_list=list((1,2,3))\n",
    "print(my_list)"
   ]
  },
  {
   "cell_type": "code",
   "execution_count": 13,
   "id": "a554ca8f",
   "metadata": {},
   "outputs": [
    {
     "name": "stdout",
     "output_type": "stream",
     "text": [
      "[('Dipika', 3, 40), ('Nikita', 2, 50), ('Monika', 4, 60), ('pooja', 1, 70)]\n"
     ]
    }
   ],
   "source": [
    "name=[\"Dipika\",\"Nikita\",\"Monika\",\"pooja\"]\n",
    "roll_no=[3,2,4,1]\n",
    "marks=[40,50,60,70]\n",
    "\n",
    "#using zip() to map values\n",
    "mapped=zip(name,roll_no,marks)\n",
    "mapped=list(mapped)\n",
    "print(mapped)"
   ]
  },
  {
   "cell_type": "code",
   "execution_count": 14,
   "id": "98c18d2d",
   "metadata": {},
   "outputs": [
    {
     "name": "stdout",
     "output_type": "stream",
     "text": [
      "('Dipika', 'Nikita', 'Monika', 'pooja')\n",
      "(3, 2, 4, 1)\n",
      "(40, 50, 60, 70)\n"
     ]
    }
   ],
   "source": [
    "namez,roll_noz,marksz=zip(*mapped)\n",
    "print(namez)\n",
    "print(roll_noz)\n",
    "print(marksz)"
   ]
  },
  {
   "cell_type": "code",
   "execution_count": null,
   "id": "db73e18a",
   "metadata": {},
   "outputs": [],
   "source": []
  }
 ],
 "metadata": {
  "kernelspec": {
   "display_name": "Python 3 (ipykernel)",
   "language": "python",
   "name": "python3"
  },
  "language_info": {
   "codemirror_mode": {
    "name": "ipython",
    "version": 3
   },
   "file_extension": ".py",
   "mimetype": "text/x-python",
   "name": "python",
   "nbconvert_exporter": "python",
   "pygments_lexer": "ipython3",
   "version": "3.9.7"
  }
 },
 "nbformat": 4,
 "nbformat_minor": 5
}
