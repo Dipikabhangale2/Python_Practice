{
 "cells": [
  {
   "cell_type": "markdown",
   "id": "e62a936d",
   "metadata": {},
   "source": [
    "# Create List"
   ]
  },
  {
   "cell_type": "code",
   "execution_count": 1,
   "id": "56894bab",
   "metadata": {},
   "outputs": [
    {
     "name": "stdout",
     "output_type": "stream",
     "text": [
      "[1, 2, 3]\n"
     ]
    }
   ],
   "source": [
    "#using square bracket[]\n",
    "my_list1=[1,2,3]\n",
    "print(my_list1)"
   ]
  },
  {
   "cell_type": "code",
   "execution_count": 2,
   "id": "31a99644",
   "metadata": {},
   "outputs": [
    {
     "data": {
      "text/plain": [
       "list"
      ]
     },
     "execution_count": 2,
     "metadata": {},
     "output_type": "execute_result"
    }
   ],
   "source": [
    "#what is the data type?\n",
    "type(my_list1)"
   ]
  },
  {
   "cell_type": "code",
   "execution_count": 4,
   "id": "c0ad85d2",
   "metadata": {},
   "outputs": [
    {
     "name": "stdout",
     "output_type": "stream",
     "text": [
      "[1, 2, 3]\n"
     ]
    },
    {
     "data": {
      "text/plain": [
       "list"
      ]
     },
     "execution_count": 4,
     "metadata": {},
     "output_type": "execute_result"
    }
   ],
   "source": [
    "#using list constructor\n",
    "my_list2=list((1,2,3))\n",
    "print(my_list2)\n",
    "type(my_list2)"
   ]
  },
  {
   "cell_type": "code",
   "execution_count": 6,
   "id": "629a1b00",
   "metadata": {},
   "outputs": [
    {
     "name": "stdout",
     "output_type": "stream",
     "text": [
      "[1, 2, 3, 2, 1]\n"
     ]
    }
   ],
   "source": [
    "#list allow duplicate values\n",
    "my_list3=[1,2,3,2,1]\n",
    "print(my_list3)"
   ]
  },
  {
   "cell_type": "code",
   "execution_count": 7,
   "id": "c693f0a5",
   "metadata": {},
   "outputs": [
    {
     "name": "stdout",
     "output_type": "stream",
     "text": [
      "6\n"
     ]
    }
   ],
   "source": [
    "#in order to find the number of items present in a list OR size of list\n",
    "my_list=[1,2,3,4,5,6]\n",
    "print(len(my_list))"
   ]
  },
  {
   "cell_type": "code",
   "execution_count": 9,
   "id": "28d95957",
   "metadata": {},
   "outputs": [
    {
     "name": "stdout",
     "output_type": "stream",
     "text": [
      "['apple', 'banana', 'cherry']\n",
      "[1, 5, 7, 9, 3]\n",
      "[True, False, False]\n"
     ]
    }
   ],
   "source": [
    "#list items can be of any data type\n",
    "list1=[\"apple\",\"banana\",\"cherry\"]\n",
    "list2=[1,5,7,9,3]\n",
    "list3=[True,False,False]\n",
    "print(list1)\n",
    "print(list2)\n",
    "print(list3)"
   ]
  },
  {
   "cell_type": "code",
   "execution_count": 11,
   "id": "0a9841a1",
   "metadata": {},
   "outputs": [
    {
     "name": "stdout",
     "output_type": "stream",
     "text": [
      "['abc', 34, True, 40, 'male']\n"
     ]
    },
    {
     "data": {
      "text/plain": [
       "list"
      ]
     },
     "execution_count": 11,
     "metadata": {},
     "output_type": "execute_result"
    }
   ],
   "source": [
    "#list can contain different data types\n",
    "list1=[\"abc\",34,True,40,\"male\"]\n",
    "print(list1)\n",
    "type(list1)"
   ]
  },
  {
   "cell_type": "markdown",
   "id": "3b9792c4",
   "metadata": {},
   "source": [
    "# Accessing items of a list"
   ]
  },
  {
   "cell_type": "code",
   "execution_count": 13,
   "id": "30dd041f",
   "metadata": {},
   "outputs": [
    {
     "name": "stdout",
     "output_type": "stream",
     "text": [
      "['abc', 34, True, 40, 'male']\n"
     ]
    }
   ],
   "source": [
    "list1=[\"abc\",34,True,40,\"male\"]\n",
    "print(list1)"
   ]
  },
  {
   "cell_type": "code",
   "execution_count": 16,
   "id": "14614765",
   "metadata": {},
   "outputs": [
    {
     "name": "stdout",
     "output_type": "stream",
     "text": [
      "abc\n",
      "34\n",
      "True\n"
     ]
    }
   ],
   "source": [
    "#positive or forward indexing\n",
    "list1=[\"abc\",34,True,40,\"male\"]\n",
    "print(list1[0])\n",
    "print(list1[1])\n",
    "print(list1[2])"
   ]
  },
  {
   "cell_type": "code",
   "execution_count": 17,
   "id": "799e013c",
   "metadata": {},
   "outputs": [
    {
     "ename": "IndexError",
     "evalue": "list index out of range",
     "output_type": "error",
     "traceback": [
      "\u001b[1;31m---------------------------------------------------------------------------\u001b[0m",
      "\u001b[1;31mIndexError\u001b[0m                                Traceback (most recent call last)",
      "\u001b[1;32m~\\AppData\\Local\\Temp/ipykernel_13452/3581294922.py\u001b[0m in \u001b[0;36m<module>\u001b[1;34m\u001b[0m\n\u001b[0;32m      1\u001b[0m \u001b[0mlist1\u001b[0m\u001b[1;33m=\u001b[0m\u001b[1;33m[\u001b[0m\u001b[1;34m\"abc\"\u001b[0m\u001b[1;33m,\u001b[0m\u001b[1;36m34\u001b[0m\u001b[1;33m,\u001b[0m\u001b[1;32mTrue\u001b[0m\u001b[1;33m,\u001b[0m\u001b[1;36m40\u001b[0m\u001b[1;33m,\u001b[0m\u001b[1;34m\"male\"\u001b[0m\u001b[1;33m]\u001b[0m\u001b[1;33m\u001b[0m\u001b[1;33m\u001b[0m\u001b[0m\n\u001b[1;32m----> 2\u001b[1;33m \u001b[0mprint\u001b[0m\u001b[1;33m(\u001b[0m\u001b[0mlist1\u001b[0m\u001b[1;33m[\u001b[0m\u001b[1;36m5\u001b[0m\u001b[1;33m]\u001b[0m\u001b[1;33m)\u001b[0m\u001b[1;33m\u001b[0m\u001b[1;33m\u001b[0m\u001b[0m\n\u001b[0m",
      "\u001b[1;31mIndexError\u001b[0m: list index out of range"
     ]
    }
   ],
   "source": [
    "list1=[\"abc\",34,True,40,\"male\"]\n",
    "print(list1[5])"
   ]
  },
  {
   "cell_type": "code",
   "execution_count": 19,
   "id": "5327855c",
   "metadata": {},
   "outputs": [
    {
     "name": "stdout",
     "output_type": "stream",
     "text": [
      "male\n",
      "40\n",
      "34\n"
     ]
    }
   ],
   "source": [
    "#negative and positive indexing\n",
    "list1=[\"abc\",34,True,40,\"male\"]\n",
    "print(list1[-1])\n",
    "print(list1[-2])\n",
    "print(list1[-4])"
   ]
  },
  {
   "cell_type": "code",
   "execution_count": 21,
   "id": "fa3734e5",
   "metadata": {},
   "outputs": [
    {
     "data": {
      "text/plain": [
       "4"
      ]
     },
     "execution_count": 21,
     "metadata": {},
     "output_type": "execute_result"
    }
   ],
   "source": [
    "# to check position of an element in list\n",
    "list1=[\"abc\",34,True,40,\"male\"]\n",
    "list1.index(\"male\")\n",
    "\n"
   ]
  },
  {
   "cell_type": "code",
   "execution_count": 22,
   "id": "6b8215f2",
   "metadata": {},
   "outputs": [
    {
     "data": {
      "text/plain": [
       "2"
      ]
     },
     "execution_count": 22,
     "metadata": {},
     "output_type": "execute_result"
    }
   ],
   "source": [
    "list1.index(True) "
   ]
  },
  {
   "cell_type": "code",
   "execution_count": 23,
   "id": "7e2d63ba",
   "metadata": {},
   "outputs": [
    {
     "ename": "NameError",
     "evalue": "name 'a' is not defined",
     "output_type": "error",
     "traceback": [
      "\u001b[1;31m---------------------------------------------------------------------------\u001b[0m",
      "\u001b[1;31mNameError\u001b[0m                                 Traceback (most recent call last)",
      "\u001b[1;32m~\\AppData\\Local\\Temp/ipykernel_13452/3447530923.py\u001b[0m in \u001b[0;36m<module>\u001b[1;34m\u001b[0m\n\u001b[1;32m----> 1\u001b[1;33m \u001b[0mprint\u001b[0m\u001b[1;33m(\u001b[0m\u001b[0mlist1\u001b[0m\u001b[1;33m[\u001b[0m\u001b[0ma\u001b[0m\u001b[1;33m]\u001b[0m\u001b[1;33m)\u001b[0m\u001b[1;33m\u001b[0m\u001b[1;33m\u001b[0m\u001b[0m\n\u001b[0m",
      "\u001b[1;31mNameError\u001b[0m: name 'a' is not defined"
     ]
    }
   ],
   "source": [
    "print(list1[a])"
   ]
  },
  {
   "cell_type": "code",
   "execution_count": 25,
   "id": "f725e696",
   "metadata": {},
   "outputs": [
    {
     "name": "stdout",
     "output_type": "stream",
     "text": [
      "['abc', 34, True, 40, 'male']\n"
     ]
    }
   ],
   "source": [
    "# slicing\n",
    "#list1[_:_:_]=list1[start:end:step]\n",
    "list1=[\"abc\",34,True,40,\"male\"]\n",
    "print(list1[0:])"
   ]
  },
  {
   "cell_type": "code",
   "execution_count": 26,
   "id": "9fe7372c",
   "metadata": {},
   "outputs": [
    {
     "name": "stdout",
     "output_type": "stream",
     "text": [
      "['abc', 34, True]\n",
      "['abc', 34, True, 40, 'male']\n",
      "[True, 40, 'male']\n",
      "['abc', True, 'male']\n"
     ]
    }
   ],
   "source": [
    "list1=[\"abc\",34,True,40,\"male\"]\n",
    "print(list1[:3])\n",
    "print(list1[:])\n",
    "print(list1[2:5])\n",
    "print(list1[::2])"
   ]
  },
  {
   "cell_type": "code",
   "execution_count": 27,
   "id": "7c7147b3",
   "metadata": {},
   "outputs": [
    {
     "name": "stdout",
     "output_type": "stream",
     "text": [
      "['male', 40, True, 34, 'abc']\n"
     ]
    }
   ],
   "source": [
    "list1=[\"abc\",34,True,40,\"male\"]\n",
    "print(list1[::-1])"
   ]
  },
  {
   "cell_type": "code",
   "execution_count": 28,
   "id": "750932c9",
   "metadata": {},
   "outputs": [
    {
     "name": "stdout",
     "output_type": "stream",
     "text": [
      "['male', True, 'abc']\n",
      "[34, True, 40]\n",
      "[34, True, 40, 'male']\n",
      "[34, True, 40]\n"
     ]
    }
   ],
   "source": [
    "list1=[\"abc\",34,True,40,\"male\"]\n",
    "print(list1[::-2])\n",
    "print(list1[1:-1])\n",
    "print(list1[-4:5])\n",
    "print(list1[-4:-1])\n"
   ]
  },
  {
   "cell_type": "code",
   "execution_count": 29,
   "id": "60a3413a",
   "metadata": {},
   "outputs": [
    {
     "name": "stdout",
     "output_type": "stream",
     "text": [
      "[34, 40]\n",
      "[]\n",
      "[34, True]\n",
      "['abc']\n",
      "['male', True]\n"
     ]
    }
   ],
   "source": [
    "list1=[\"abc\",34,True,40,\"male\"]\n",
    "print(list1[-4:-1:2])\n",
    "print(list1[-1:-4])\n",
    "print(list1[1:-2])\n",
    "print(list1[0:-4])\n",
    "print(list1[-1:-4:-2])"
   ]
  },
  {
   "cell_type": "code",
   "execution_count": 30,
   "id": "815c9803",
   "metadata": {},
   "outputs": [
    {
     "data": {
      "text/plain": [
       "['abc', 34, True, 40, 'male', 'abc', 34, True, 40, 'male']"
      ]
     },
     "execution_count": 30,
     "metadata": {},
     "output_type": "execute_result"
    }
   ],
   "source": [
    "#print list 2 times\n",
    "list1=[\"abc\",34,True,40,\"male\"]\n",
    "list1*2"
   ]
  },
  {
   "cell_type": "code",
   "execution_count": 31,
   "id": "1ab2f793",
   "metadata": {},
   "outputs": [
    {
     "name": "stdout",
     "output_type": "stream",
     "text": [
      "watermelon\n"
     ]
    }
   ],
   "source": [
    "list1=[\"apple\",\"banana\",[\"watermelon\",\"kiwi\"],\"cherry\"]\n",
    "print(list1[2][0])"
   ]
  },
  {
   "cell_type": "code",
   "execution_count": 32,
   "id": "39b96b5d",
   "metadata": {},
   "outputs": [
    {
     "name": "stdout",
     "output_type": "stream",
     "text": [
      "r\n"
     ]
    }
   ],
   "source": [
    "list1=[\"apple\",\"banana\",[\"watermelon\",\"kiwi\"],\"cherry\"]\n",
    "print(list1[2][0][4])"
   ]
  },
  {
   "cell_type": "code",
   "execution_count": 33,
   "id": "4d80edcf",
   "metadata": {},
   "outputs": [
    {
     "name": "stdout",
     "output_type": "stream",
     "text": [
      "mango\n"
     ]
    }
   ],
   "source": [
    "list1=[\"apple\",\"banana\",[\"watermelon\",[\"mango\",\"orange\"],\"coconut\",\"kiwi\"],\"cherry\"]\n",
    "print((list1[2][1][0]))"
   ]
  },
  {
   "cell_type": "code",
   "execution_count": 34,
   "id": "c813402e",
   "metadata": {},
   "outputs": [
    {
     "data": {
      "text/plain": [
       "'ora'"
      ]
     },
     "execution_count": 34,
     "metadata": {},
     "output_type": "execute_result"
    }
   ],
   "source": [
    "list1[2][1][1][0:3]"
   ]
  },
  {
   "cell_type": "markdown",
   "id": "1d476d39",
   "metadata": {},
   "source": [
    "# Change element/values in the list(mutable)"
   ]
  },
  {
   "cell_type": "code",
   "execution_count": 2,
   "id": "1ea64008",
   "metadata": {},
   "outputs": [
    {
     "name": "stdout",
     "output_type": "stream",
     "text": [
      "['apple', 'banana', 'cherry']\n"
     ]
    }
   ],
   "source": [
    "a=[\"apple\",\"banana\",\"cherry\"]\n",
    "print(a)"
   ]
  },
  {
   "cell_type": "code",
   "execution_count": 3,
   "id": "d533573c",
   "metadata": {},
   "outputs": [
    {
     "name": "stdout",
     "output_type": "stream",
     "text": [
      "['kiwi', 'banana', 'cherry']\n"
     ]
    }
   ],
   "source": [
    "a[0]=\"kiwi\"\n",
    "print(a)"
   ]
  },
  {
   "cell_type": "code",
   "execution_count": 9,
   "id": "3bcc7db6",
   "metadata": {},
   "outputs": [
    {
     "name": "stdout",
     "output_type": "stream",
     "text": [
      "['apple', 'watermelon', 'kiwi', 'mango']\n"
     ]
    }
   ],
   "source": [
    "b=[\"apple\",\"banana\",\"cherry\",\"mango\"]\n",
    "b[1:3]=[\"watermelon\",\"kiwi\"]\n",
    "print(b)"
   ]
  },
  {
   "cell_type": "code",
   "execution_count": 10,
   "id": "105972d5",
   "metadata": {},
   "outputs": [
    {
     "name": "stdout",
     "output_type": "stream",
     "text": [
      "['apple', 'orange', 'papaya', 'cherry', 'mango']\n"
     ]
    }
   ],
   "source": [
    "b=[\"apple\",\"banana\",\"cherry\",\"mango\"]\n",
    "b[1:2]=[\"orange\",\"papaya\"]\n",
    "print(b)"
   ]
  },
  {
   "cell_type": "code",
   "execution_count": 12,
   "id": "1b86f1ed",
   "metadata": {},
   "outputs": [
    {
     "name": "stdout",
     "output_type": "stream",
     "text": [
      "['apple', 'watermelon']\n"
     ]
    }
   ],
   "source": [
    "b=[\"apple\",\"banana\",\"cherry\",\"mango\"]\n",
    "b[1:4]=[\"watermelon\"]\n",
    "print(b)"
   ]
  },
  {
   "cell_type": "code",
   "execution_count": 13,
   "id": "028311ad",
   "metadata": {},
   "outputs": [
    {
     "name": "stdout",
     "output_type": "stream",
     "text": [
      "p\n",
      "r\n",
      "r\n"
     ]
    }
   ],
   "source": [
    "new=['apple','banana',['watermelon',['grape','mango'],'kiwi'],'cherry']\n",
    "print(new[2][1][0][-2])\n",
    "print(new[2][0][4])\n",
    "print(new[3][-2])"
   ]
  },
  {
   "cell_type": "markdown",
   "id": "b7faa5ad",
   "metadata": {},
   "source": [
    "# List Methods"
   ]
  },
  {
   "cell_type": "code",
   "execution_count": null,
   "id": "99cdc8df",
   "metadata": {},
   "outputs": [],
   "source": [
    "# update & delete from list"
   ]
  },
  {
   "cell_type": "markdown",
   "id": "612d4c16",
   "metadata": {},
   "source": [
    "# add list items"
   ]
  },
  {
   "cell_type": "code",
   "execution_count": 14,
   "id": "1dc90c92",
   "metadata": {},
   "outputs": [
    {
     "name": "stdout",
     "output_type": "stream",
     "text": [
      "['apple', 'banana', 'watermelon', 'cherry']\n"
     ]
    }
   ],
   "source": [
    "# 1.insert()\n",
    "a=[\"apple\",\"banana\",\"cherry\"]\n",
    "a.insert(2,\"watermelon\")\n",
    "print(a)\n"
   ]
  },
  {
   "cell_type": "code",
   "execution_count": 15,
   "id": "cd64906f",
   "metadata": {},
   "outputs": [
    {
     "name": "stdout",
     "output_type": "stream",
     "text": [
      "['apple', 'banana', ['watermelon', 'kiwi'], 'cherry']\n"
     ]
    }
   ],
   "source": [
    "b=[\"apple\",\"banana\",\"cherry\"]\n",
    "b.insert(2,[\"watermelon\",\"kiwi\"])\n",
    "print(b)"
   ]
  },
  {
   "cell_type": "code",
   "execution_count": 16,
   "id": "2f9b1141",
   "metadata": {},
   "outputs": [
    {
     "name": "stdout",
     "output_type": "stream",
     "text": [
      "['apple', 'banana', 'cherry', 'watermelon']\n"
     ]
    }
   ],
   "source": [
    "# 2.append()\n",
    "a=[\"apple\",\"banana\",\"cherry\"]\n",
    "a.append(\"watermelon\")\n",
    "print(a)"
   ]
  },
  {
   "cell_type": "code",
   "execution_count": 18,
   "id": "1356e838",
   "metadata": {},
   "outputs": [
    {
     "name": "stdout",
     "output_type": "stream",
     "text": [
      "['apple', 'banana', 'cherry', ['watermelon', 'kiwi']]\n"
     ]
    }
   ],
   "source": [
    "b=[\"apple\",\"banana\",\"cherry\"]\n",
    "b.append([\"watermelon\",\"kiwi\"])\n",
    "print(b)"
   ]
  },
  {
   "cell_type": "code",
   "execution_count": 19,
   "id": "15448ebe",
   "metadata": {},
   "outputs": [
    {
     "name": "stdout",
     "output_type": "stream",
     "text": [
      "['apple', 'banana', 'cherry', 'watermelon']\n"
     ]
    }
   ],
   "source": [
    "# 3.extend()\n",
    "a=[\"apple\",\"banana\",\"cherry\"]\n",
    "a.extend([\"watermelon\"])\n",
    "print(a)"
   ]
  },
  {
   "cell_type": "code",
   "execution_count": 20,
   "id": "61a685b0",
   "metadata": {},
   "outputs": [
    {
     "name": "stdout",
     "output_type": "stream",
     "text": [
      "['apple', 'banana', 'cherry', 'watermelon', 'kiwi']\n"
     ]
    }
   ],
   "source": [
    "b=[\"apple\",\"banana\",\"cherry\"]\n",
    "b.extend([\"watermelon\",\"kiwi\"])\n",
    "print(b)"
   ]
  },
  {
   "cell_type": "code",
   "execution_count": 21,
   "id": "7c650065",
   "metadata": {},
   "outputs": [
    {
     "name": "stdout",
     "output_type": "stream",
     "text": [
      "['apple', 'banana', 'cherry', 1, 2, 3]\n"
     ]
    }
   ],
   "source": [
    "a=[\"apple\",\"banana\",\"cherry\"]\n",
    "b=[1,2,3]\n",
    "a.extend(b)\n",
    "print(a)"
   ]
  },
  {
   "cell_type": "markdown",
   "id": "46840dc6",
   "metadata": {},
   "source": [
    "# remove list items"
   ]
  },
  {
   "cell_type": "code",
   "execution_count": 22,
   "id": "761466aa",
   "metadata": {},
   "outputs": [
    {
     "name": "stdout",
     "output_type": "stream",
     "text": [
      "['apple', 'cherry']\n"
     ]
    }
   ],
   "source": [
    "# 1.remove()\n",
    "a=[\"apple\",\"banana\",\"cherry\"]\n",
    "a.remove(\"banana\")\n",
    "print(a)"
   ]
  },
  {
   "cell_type": "code",
   "execution_count": 23,
   "id": "4cdb54d6",
   "metadata": {},
   "outputs": [
    {
     "name": "stdout",
     "output_type": "stream",
     "text": [
      "['True', True]\n"
     ]
    }
   ],
   "source": [
    "b=[\"True\",False,True]\n",
    "b.remove(False)\n",
    "print(b)"
   ]
  },
  {
   "cell_type": "code",
   "execution_count": 24,
   "id": "c64c2ba3",
   "metadata": {},
   "outputs": [
    {
     "name": "stdout",
     "output_type": "stream",
     "text": [
      "['banana', 'cherry']\n"
     ]
    }
   ],
   "source": [
    "a=[\"apple\",\"banana\",\"cherry\"]\n",
    "a.remove(\"apple\")\n",
    "print(a)"
   ]
  },
  {
   "cell_type": "code",
   "execution_count": 25,
   "id": "e01be603",
   "metadata": {},
   "outputs": [
    {
     "name": "stdout",
     "output_type": "stream",
     "text": [
      "['apple', 'cherry']\n"
     ]
    }
   ],
   "source": [
    "# 2.pop()\n",
    "a=[\"apple\",\"banana\",\"cherry\"]\n",
    "a.pop(1)\n",
    "print(a)"
   ]
  },
  {
   "cell_type": "code",
   "execution_count": 26,
   "id": "65043788",
   "metadata": {},
   "outputs": [
    {
     "name": "stdout",
     "output_type": "stream",
     "text": [
      "['apple', 'banana']\n"
     ]
    }
   ],
   "source": [
    "a=[\"apple\",\"banana\",\"cherry\"]\n",
    "a.pop()    #do not specify the index\n",
    "print(a)"
   ]
  },
  {
   "cell_type": "code",
   "execution_count": 27,
   "id": "bb31a492",
   "metadata": {},
   "outputs": [
    {
     "name": "stdout",
     "output_type": "stream",
     "text": [
      "['apple', 'cherry']\n"
     ]
    }
   ],
   "source": [
    "# 3.del\n",
    "a=[\"apple\",\"banana\",\"cherry\"]\n",
    "del a[1]\n",
    "print(a)"
   ]
  },
  {
   "cell_type": "code",
   "execution_count": 28,
   "id": "76c141f6",
   "metadata": {},
   "outputs": [],
   "source": [
    "list1=[\"apple\",\"banana\",\"cherry\"]\n",
    "del list1"
   ]
  },
  {
   "cell_type": "code",
   "execution_count": 29,
   "id": "bdc41b92",
   "metadata": {},
   "outputs": [
    {
     "ename": "NameError",
     "evalue": "name 'list1' is not defined",
     "output_type": "error",
     "traceback": [
      "\u001b[1;31m---------------------------------------------------------------------------\u001b[0m",
      "\u001b[1;31mNameError\u001b[0m                                 Traceback (most recent call last)",
      "\u001b[1;32m~\\AppData\\Local\\Temp/ipykernel_17128/1424600876.py\u001b[0m in \u001b[0;36m<module>\u001b[1;34m\u001b[0m\n\u001b[1;32m----> 1\u001b[1;33m \u001b[0mprint\u001b[0m\u001b[1;33m(\u001b[0m\u001b[0mlist1\u001b[0m\u001b[1;33m)\u001b[0m\u001b[1;33m\u001b[0m\u001b[1;33m\u001b[0m\u001b[0m\n\u001b[0m",
      "\u001b[1;31mNameError\u001b[0m: name 'list1' is not defined"
     ]
    }
   ],
   "source": [
    "print(list1)"
   ]
  },
  {
   "cell_type": "code",
   "execution_count": 30,
   "id": "be4c2a15",
   "metadata": {},
   "outputs": [
    {
     "name": "stdout",
     "output_type": "stream",
     "text": [
      "[]\n"
     ]
    }
   ],
   "source": [
    "list2=[\"apple\",\"banana\",\"cherry\"]\n",
    "list2.clear()\n",
    "print(list2)"
   ]
  },
  {
   "cell_type": "markdown",
   "id": "9b45087e",
   "metadata": {},
   "source": [
    "# concatenate of two lists"
   ]
  },
  {
   "cell_type": "code",
   "execution_count": 31,
   "id": "51dfde17",
   "metadata": {},
   "outputs": [
    {
     "name": "stdout",
     "output_type": "stream",
     "text": [
      "[1, 2, 3, 4, 5, 6]\n"
     ]
    }
   ],
   "source": [
    "# 1.using + operator\n",
    "my_list1=[1,2,3]\n",
    "my_list2=[4,5,6]\n",
    "my_list3=my_list1 + my_list2\n",
    "print(my_list3)"
   ]
  },
  {
   "cell_type": "code",
   "execution_count": 32,
   "id": "85918cda",
   "metadata": {},
   "outputs": [
    {
     "name": "stdout",
     "output_type": "stream",
     "text": [
      "['apple', 'banana', 'cherry', 1, 2, 3]\n"
     ]
    }
   ],
   "source": [
    "a=[\"apple\",\"banana\",\"cherry\"]\n",
    "b=[1,2,3]\n",
    "a.extend(b)\n",
    "print(a)"
   ]
  },
  {
   "cell_type": "markdown",
   "id": "6252e89c",
   "metadata": {},
   "source": [
    "# copying a list"
   ]
  },
  {
   "cell_type": "code",
   "execution_count": 2,
   "id": "7ceff336",
   "metadata": {},
   "outputs": [
    {
     "name": "stdout",
     "output_type": "stream",
     "text": [
      "[1, 2, 3]\n"
     ]
    }
   ],
   "source": [
    "#1.using = operator\n",
    "my_list1=[1,2,3]\n",
    "new_list=my_list1\n",
    "print(new_list)"
   ]
  },
  {
   "cell_type": "code",
   "execution_count": 3,
   "id": "7e93c3b9",
   "metadata": {},
   "outputs": [
    {
     "name": "stdout",
     "output_type": "stream",
     "text": [
      "[1, 2, 3, 4]\n",
      "[1, 2, 3, 4]\n"
     ]
    }
   ],
   "source": [
    "my_list1.append(4)\n",
    "print(my_list1)\n",
    "print(new_list)"
   ]
  },
  {
   "cell_type": "code",
   "execution_count": 5,
   "id": "d53ab3fd",
   "metadata": {},
   "outputs": [
    {
     "name": "stdout",
     "output_type": "stream",
     "text": [
      "['apple', 'banana', 'cherry']\n"
     ]
    }
   ],
   "source": [
    "#2.using copy method\n",
    "thislist=[\"apple\",\"banana\",\"cherry\"]\n",
    "newlist=thislist.copy()\n",
    "print(newlist)"
   ]
  },
  {
   "cell_type": "code",
   "execution_count": 6,
   "id": "2ac2c0a5",
   "metadata": {},
   "outputs": [
    {
     "name": "stdout",
     "output_type": "stream",
     "text": [
      "['apple', 'banana', 'cherry', 'mango']\n",
      "['apple', 'banana', 'cherry']\n"
     ]
    }
   ],
   "source": [
    "thislist.append(\"mango\")\n",
    "print(thislist)\n",
    "print(newlist)"
   ]
  },
  {
   "cell_type": "code",
   "execution_count": 7,
   "id": "795caf33",
   "metadata": {},
   "outputs": [
    {
     "name": "stdout",
     "output_type": "stream",
     "text": [
      "[1, 2, 3]\n"
     ]
    }
   ],
   "source": [
    "a=list((1,2,3))\n",
    "print(a)"
   ]
  },
  {
   "cell_type": "code",
   "execution_count": 8,
   "id": "20518b90",
   "metadata": {},
   "outputs": [
    {
     "name": "stdout",
     "output_type": "stream",
     "text": [
      "['apple', 'banana', 'cherry']\n"
     ]
    }
   ],
   "source": [
    "#3.list method\n",
    "thislist=[\"apple\",\"banana\",\"cherry\"]\n",
    "newlist=list(thislist)\n",
    "print(newlist)"
   ]
  },
  {
   "cell_type": "code",
   "execution_count": 9,
   "id": "29d162a5",
   "metadata": {},
   "outputs": [
    {
     "name": "stdout",
     "output_type": "stream",
     "text": [
      "['apple', 'banana', 'cherry', 'kiwi']\n",
      "['apple', 'banana', 'cherry']\n"
     ]
    }
   ],
   "source": [
    "thislist.append(\"kiwi\")\n",
    "print(thislist)\n",
    "print(newlist)"
   ]
  },
  {
   "cell_type": "markdown",
   "id": "7b2b25ac",
   "metadata": {},
   "source": [
    "# sort and reverse list"
   ]
  },
  {
   "cell_type": "code",
   "execution_count": 10,
   "id": "a482d748",
   "metadata": {},
   "outputs": [
    {
     "name": "stdout",
     "output_type": "stream",
     "text": [
      "[2, 3, 4, 5, 7, 8]\n"
     ]
    }
   ],
   "source": [
    "#1.using sort()\n",
    "mylist=[3,5,7,2,4,8]\n",
    "mylist.sort()\n",
    "print(mylist)"
   ]
  },
  {
   "cell_type": "code",
   "execution_count": 11,
   "id": "4111b887",
   "metadata": {},
   "outputs": [
    {
     "name": "stdout",
     "output_type": "stream",
     "text": [
      "['a', 'g', 'm', 'o', 'w']\n"
     ]
    }
   ],
   "source": [
    "list1=['g','w','o','a','m']\n",
    "list1.sort()\n",
    "print(list1)"
   ]
  },
  {
   "cell_type": "code",
   "execution_count": 12,
   "id": "b7d8d2c4",
   "metadata": {},
   "outputs": [
    {
     "name": "stdout",
     "output_type": "stream",
     "text": [
      "[10, 8, 6, 4, 2]\n"
     ]
    }
   ],
   "source": [
    "mylist=[2,4,6,8,10]\n",
    "mylist.reverse()\n",
    "print(mylist)"
   ]
  },
  {
   "cell_type": "markdown",
   "id": "69d74a06",
   "metadata": {},
   "source": [
    "# Function used with list"
   ]
  },
  {
   "cell_type": "code",
   "execution_count": 13,
   "id": "257ed424",
   "metadata": {},
   "outputs": [
    {
     "name": "stdout",
     "output_type": "stream",
     "text": [
      "6\n"
     ]
    }
   ],
   "source": [
    "#1.max()\n",
    "mylist=[3,4,5,6,1]\n",
    "print(max(mylist))"
   ]
  },
  {
   "cell_type": "code",
   "execution_count": 14,
   "id": "fa4f528e",
   "metadata": {},
   "outputs": [
    {
     "name": "stdout",
     "output_type": "stream",
     "text": [
      "1\n"
     ]
    }
   ],
   "source": [
    "#2.min()\n",
    "mylist=[3,4,5,6,1]\n",
    "print(min(mylist))"
   ]
  },
  {
   "cell_type": "code",
   "execution_count": 15,
   "id": "01913366",
   "metadata": {},
   "outputs": [
    {
     "name": "stdout",
     "output_type": "stream",
     "text": [
      "18\n"
     ]
    }
   ],
   "source": [
    "#3.sum()\n",
    "mylist=[3,4,5,6]\n",
    "print(sum(mylist))"
   ]
  },
  {
   "cell_type": "code",
   "execution_count": 1,
   "id": "ce333030",
   "metadata": {},
   "outputs": [
    {
     "name": "stdout",
     "output_type": "stream",
     "text": [
      "True\n"
     ]
    }
   ],
   "source": [
    "#4.all()\n",
    "#with all true value\n",
    "samplelist1=[1,1,True]\n",
    "print(all(samplelist1))"
   ]
  },
  {
   "cell_type": "code",
   "execution_count": 2,
   "id": "acf6c885",
   "metadata": {},
   "outputs": [
    {
     "name": "stdout",
     "output_type": "stream",
     "text": [
      "False\n"
     ]
    }
   ],
   "source": [
    "#with one false\n",
    "samplelist2=[0,1,True,1]\n",
    "print(all(samplelist2))"
   ]
  },
  {
   "cell_type": "code",
   "execution_count": 3,
   "id": "f9ca3f31",
   "metadata": {},
   "outputs": [
    {
     "name": "stdout",
     "output_type": "stream",
     "text": [
      "False\n"
     ]
    }
   ],
   "source": [
    "#with all false\n",
    "samplelist3=[0,0,False]\n",
    "print(all(samplelist3))"
   ]
  },
  {
   "cell_type": "code",
   "execution_count": 4,
   "id": "5528e9ce",
   "metadata": {},
   "outputs": [
    {
     "name": "stdout",
     "output_type": "stream",
     "text": [
      "True\n"
     ]
    }
   ],
   "source": [
    "#with empty list\n",
    "samplelist4=[]\n",
    "print(all(samplelist4))"
   ]
  },
  {
   "cell_type": "code",
   "execution_count": 5,
   "id": "fcfbcce4",
   "metadata": {},
   "outputs": [
    {
     "name": "stdout",
     "output_type": "stream",
     "text": [
      "True\n"
     ]
    }
   ],
   "source": [
    "#5.any()\n",
    "#with all true value\n",
    "samplelist1=[1,1,True]\n",
    "print(any(samplelist1))"
   ]
  },
  {
   "cell_type": "code",
   "execution_count": 6,
   "id": "c535ef5f",
   "metadata": {},
   "outputs": [
    {
     "name": "stdout",
     "output_type": "stream",
     "text": [
      "True\n"
     ]
    }
   ],
   "source": [
    "#with one false\n",
    "samplelist2=[0,1,True,1]\n",
    "print(any(samplelist2))"
   ]
  },
  {
   "cell_type": "code",
   "execution_count": 7,
   "id": "652a3334",
   "metadata": {},
   "outputs": [
    {
     "name": "stdout",
     "output_type": "stream",
     "text": [
      "False\n"
     ]
    }
   ],
   "source": [
    "#with all false\n",
    "samplelist3=[0,0,False]\n",
    "print(any(samplelist3))"
   ]
  },
  {
   "cell_type": "code",
   "execution_count": 8,
   "id": "a78eeabf",
   "metadata": {},
   "outputs": [
    {
     "name": "stdout",
     "output_type": "stream",
     "text": [
      "False\n"
     ]
    }
   ],
   "source": [
    "#with empty list\n",
    "samplelist4=[]\n",
    "print(any(samplelist4))"
   ]
  },
  {
   "cell_type": "code",
   "execution_count": null,
   "id": "8f78a5a3",
   "metadata": {},
   "outputs": [],
   "source": []
  }
 ],
 "metadata": {
  "kernelspec": {
   "display_name": "Python 3 (ipykernel)",
   "language": "python",
   "name": "python3"
  },
  "language_info": {
   "codemirror_mode": {
    "name": "ipython",
    "version": 3
   },
   "file_extension": ".py",
   "mimetype": "text/x-python",
   "name": "python",
   "nbconvert_exporter": "python",
   "pygments_lexer": "ipython3",
   "version": "3.9.7"
  }
 },
 "nbformat": 4,
 "nbformat_minor": 5
}
