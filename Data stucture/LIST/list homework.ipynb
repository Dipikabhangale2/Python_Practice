{
 "cells": [
  {
   "cell_type": "markdown",
   "id": "5c732f80",
   "metadata": {},
   "source": [
    "#1.create list of your name,age,field,location using [] and list constructor"
   ]
  },
  {
   "cell_type": "code",
   "execution_count": 40,
   "id": "debb92ed",
   "metadata": {},
   "outputs": [
    {
     "name": "stdout",
     "output_type": "stream",
     "text": [
      "['Dipika', 24, 'E&TC', 'kalyan']\n"
     ]
    }
   ],
   "source": [
    "#using[]\n",
    "\n",
    "my_list1=[\"Dipika\",24,\"E&TC\",\"kalyan\"] \n",
    "print(my_list1)"
   ]
  },
  {
   "cell_type": "code",
   "execution_count": 3,
   "id": "b21faadd",
   "metadata": {},
   "outputs": [
    {
     "name": "stdout",
     "output_type": "stream",
     "text": [
      "['Dipika', 24, 'E&TC', 'kalyan']\n"
     ]
    }
   ],
   "source": [
    "#using list constructor\n",
    "\n",
    "my_list1=list((\"Dipika\",24,\"E&TC\",\"kalyan\"))\n",
    "print(my_list1)"
   ]
  },
  {
   "cell_type": "markdown",
   "id": "f8b7f07d",
   "metadata": {},
   "source": [
    "#2.print only your field using index method"
   ]
  },
  {
   "cell_type": "code",
   "execution_count": 4,
   "id": "c7981ff6",
   "metadata": {},
   "outputs": [
    {
     "name": "stdout",
     "output_type": "stream",
     "text": [
      "E&TC\n"
     ]
    }
   ],
   "source": [
    "\n",
    "#using index method\n",
    "my_list1=list((\"Dipika\",24,\"E&TC\",\"kalyan\"))\n",
    "print(my_list1[2])\n"
   ]
  },
  {
   "cell_type": "markdown",
   "id": "11bb5905",
   "metadata": {},
   "source": [
    "#3.print the position of location element "
   ]
  },
  {
   "cell_type": "code",
   "execution_count": 5,
   "id": "dede4ce8",
   "metadata": {},
   "outputs": [
    {
     "data": {
      "text/plain": [
       "3"
      ]
     },
     "execution_count": 5,
     "metadata": {},
     "output_type": "execute_result"
    }
   ],
   "source": [
    "#3\n",
    "my_list1=list((\"Dipika\",24,\"E&TC\",\"kalyan\"))\n",
    "my_list1.index(\"kalyan\")\n"
   ]
  },
  {
   "cell_type": "markdown",
   "id": "c1dc9552",
   "metadata": {},
   "source": [
    "#4.print element btw age and location,using forward  and backward indexing"
   ]
  },
  {
   "cell_type": "code",
   "execution_count": 6,
   "id": "f957cb55",
   "metadata": {},
   "outputs": [
    {
     "name": "stdout",
     "output_type": "stream",
     "text": [
      "['E&TC']\n"
     ]
    }
   ],
   "source": [
    "\n",
    "my_list1=list((\"Dipika\",24,\"E&TC\",\"kalyan\"))\n",
    "print(my_list1[-2:-1])"
   ]
  },
  {
   "cell_type": "code",
   "execution_count": 8,
   "id": "f438445f",
   "metadata": {},
   "outputs": [
    {
     "name": "stdout",
     "output_type": "stream",
     "text": [
      "['E&TC']\n"
     ]
    }
   ],
   "source": [
    "my_list1=list((\"Dipika\",24,\"E&TC\",\"kalyan\"))\n",
    "print(my_list1[2:3])"
   ]
  },
  {
   "cell_type": "markdown",
   "id": "8e50f1f6",
   "metadata": {},
   "source": [
    " #5.replace the element of name with surname"
   ]
  },
  {
   "cell_type": "code",
   "execution_count": 9,
   "id": "fb637de4",
   "metadata": {},
   "outputs": [
    {
     "name": "stdout",
     "output_type": "stream",
     "text": [
      "['bhangale', 24, 'E&TC', 'kalyan']\n"
     ]
    }
   ],
   "source": [
    "\n",
    "my_list1=list((\"Dipika\",24,\"E&TC\",\"kalyan\"))\n",
    "my_list1[0:1]=[\"bhangale\"]\n",
    "print(my_list1)"
   ]
  },
  {
   "cell_type": "markdown",
   "id": "de491c57",
   "metadata": {},
   "source": [
    "#6.replace the element of name,ageand field"
   ]
  },
  {
   "cell_type": "code",
   "execution_count": 10,
   "id": "6f44399f",
   "metadata": {},
   "outputs": [
    {
     "name": "stdout",
     "output_type": "stream",
     "text": [
      "['Blue', 'playing a game', 'bhangale', 'kalyan']\n"
     ]
    }
   ],
   "source": [
    "\n",
    "my_list1=list((\"Dipika\",24,\"E&TC\",\"kalyan\"))\n",
    "my_list1[0:3]=[\"Blue\",\"playing a game\",\"bhangale\"]\n",
    "print(my_list1)\n"
   ]
  },
  {
   "cell_type": "markdown",
   "id": "1967fd0b",
   "metadata": {},
   "source": [
    "#7.replace the element of name,age with only surname"
   ]
  },
  {
   "cell_type": "code",
   "execution_count": 11,
   "id": "2a43daaf",
   "metadata": {},
   "outputs": [
    {
     "name": "stdout",
     "output_type": "stream",
     "text": [
      "['bhangale', 'E&TC', 'kalyan']\n"
     ]
    }
   ],
   "source": [
    "\n",
    "my_list1=list((\"Dipika\",24,\"E&TC\",\"kalyan\"))\n",
    "my_list1[0:2]=[\"bhangale\"]\n",
    "print(my_list1)"
   ]
  },
  {
   "cell_type": "markdown",
   "id": "fc133b5d",
   "metadata": {},
   "source": [
    "#8.replace the element of name with your nickname and surname"
   ]
  },
  {
   "cell_type": "code",
   "execution_count": 12,
   "id": "54a2a401",
   "metadata": {},
   "outputs": [
    {
     "name": "stdout",
     "output_type": "stream",
     "text": [
      "[['dipu', 'bhangale'], 24, 'E&TC', 'kalyan']\n"
     ]
    }
   ],
   "source": [
    "\n",
    "my_list1=list((\"Dipika\",24,\"E&TC\",\"kalyan\"))\n",
    "my_list1[0]=[\"dipu\",\"bhangale\"]\n",
    "print(my_list1)"
   ]
  },
  {
   "cell_type": "markdown",
   "id": "33c455f6",
   "metadata": {},
   "source": [
    "#9.add your surname in the list after your first name"
   ]
  },
  {
   "cell_type": "code",
   "execution_count": 46,
   "id": "ea46f57e",
   "metadata": {},
   "outputs": [
    {
     "name": "stdout",
     "output_type": "stream",
     "text": [
      "['Dipika', 'Bhangale', 24, 'E&TC', 'kalyan']\n"
     ]
    }
   ],
   "source": [
    "my_list1=list((\"Dipika\",24,\"E&TC\",\"kalyan\"))\n",
    "my_list1[1:0]=[\"Bhangale\"]\n",
    "print(my_list1)"
   ]
  },
  {
   "cell_type": "markdown",
   "id": "5258d06d",
   "metadata": {},
   "source": [
    "#10.add your only one hobby at the end of the list"
   ]
  },
  {
   "cell_type": "code",
   "execution_count": 13,
   "id": "55e7c5fe",
   "metadata": {},
   "outputs": [
    {
     "name": "stdout",
     "output_type": "stream",
     "text": [
      "['Dipika', 24, 'E&TC', 'kalyan', 'watching a series']\n"
     ]
    }
   ],
   "source": [
    "\n",
    "my_list1=list((\"Dipika\",24,\"E&TC\",\"kalyan\"))\n",
    "my_list1.append(\"watching a series\")\n",
    "print(my_list1)"
   ]
  },
  {
   "cell_type": "markdown",
   "id": "b802c03d",
   "metadata": {},
   "source": [
    "#11.add your n-numbers of hobbies at the end of the list"
   ]
  },
  {
   "cell_type": "code",
   "execution_count": 15,
   "id": "249affb4",
   "metadata": {},
   "outputs": [
    {
     "name": "stdout",
     "output_type": "stream",
     "text": [
      "['Dipika', 24, 'E&TC', 'kalyan', 'watching a series', 'writing', 'cooking']\n"
     ]
    }
   ],
   "source": [
    "\n",
    "my_list1=list((\"Dipika\",24,\"E&TC\",\"kalyan\"))\n",
    "my_list1.extend((\"watching a series\",\"writing\",\"cooking\"))\n",
    "print(my_list1)"
   ]
  },
  {
   "cell_type": "markdown",
   "id": "762ed454",
   "metadata": {},
   "source": [
    "#12.remove your location from list "
   ]
  },
  {
   "cell_type": "code",
   "execution_count": 18,
   "id": "268eb95a",
   "metadata": {},
   "outputs": [
    {
     "name": "stdout",
     "output_type": "stream",
     "text": [
      "['Dipika', 24, 'E&TC']\n"
     ]
    }
   ],
   "source": [
    "\n",
    "my_list1=list((\"Dipika\",24,\"E&TC\",\"kalyan\"))\n",
    "my_list1.pop()\n",
    "print(my_list1)"
   ]
  },
  {
   "cell_type": "markdown",
   "id": "b5f523ea",
   "metadata": {},
   "source": [
    "#13.remove your age from list[using 2 methods]"
   ]
  },
  {
   "cell_type": "code",
   "execution_count": 20,
   "id": "37ec759b",
   "metadata": {},
   "outputs": [
    {
     "name": "stdout",
     "output_type": "stream",
     "text": [
      "['Dipika', 'E&TC', 'kalyan']\n"
     ]
    }
   ],
   "source": [
    "\n",
    "# using pop method\n",
    "my_list1=list((\"Dipika\",24,\"E&TC\",\"kalyan\"))\n",
    "my_list1.pop(1)\n",
    "print(my_list1)"
   ]
  },
  {
   "cell_type": "code",
   "execution_count": 21,
   "id": "416c6a4e",
   "metadata": {},
   "outputs": [
    {
     "name": "stdout",
     "output_type": "stream",
     "text": [
      "['Dipika', 'E&TC', 'kalyan']\n"
     ]
    }
   ],
   "source": [
    "#using remove method\n",
    "my_list1=list((\"Dipika\",24,\"E&TC\",\"kalyan\"))\n",
    "my_list1.remove(24)\n",
    "print(my_list1)"
   ]
  },
  {
   "cell_type": "markdown",
   "id": "a989d78f",
   "metadata": {},
   "source": [
    "#14.remove last element from the list"
   ]
  },
  {
   "cell_type": "code",
   "execution_count": 22,
   "id": "2014ad71",
   "metadata": {},
   "outputs": [
    {
     "name": "stdout",
     "output_type": "stream",
     "text": [
      "['Dipika', 24, 'E&TC']\n"
     ]
    }
   ],
   "source": [
    "\n",
    "my_list1=list((\"Dipika\",24,\"E&TC\",\"kalyan\"))\n",
    "my_list1.pop()\n",
    "print(my_list1)"
   ]
  },
  {
   "cell_type": "markdown",
   "id": "cbb9db5e",
   "metadata": {},
   "source": [
    "#15.remove all element from the list(empty) "
   ]
  },
  {
   "cell_type": "code",
   "execution_count": 23,
   "id": "4e2d0517",
   "metadata": {},
   "outputs": [
    {
     "name": "stdout",
     "output_type": "stream",
     "text": [
      "[]\n"
     ]
    }
   ],
   "source": [
    "\n",
    "my_list1=list((\"Dipika\",24,\"E&TC\",\"kalyan\"))\n",
    "my_list1.clear()\n",
    "print(my_list1)"
   ]
  },
  {
   "cell_type": "markdown",
   "id": "cf339104",
   "metadata": {},
   "source": [
    "#16.delete the list"
   ]
  },
  {
   "cell_type": "code",
   "execution_count": 24,
   "id": "081d04f0",
   "metadata": {},
   "outputs": [
    {
     "ename": "NameError",
     "evalue": "name 'my_list1' is not defined",
     "output_type": "error",
     "traceback": [
      "\u001b[1;31m---------------------------------------------------------------------------\u001b[0m",
      "\u001b[1;31mNameError\u001b[0m                                 Traceback (most recent call last)",
      "\u001b[1;32m~\\AppData\\Local\\Temp/ipykernel_11964/517972507.py\u001b[0m in \u001b[0;36m<module>\u001b[1;34m\u001b[0m\n\u001b[0;32m      2\u001b[0m \u001b[0mmy_list1\u001b[0m\u001b[1;33m=\u001b[0m\u001b[0mlist\u001b[0m\u001b[1;33m(\u001b[0m\u001b[1;33m(\u001b[0m\u001b[1;34m\"Dipika\"\u001b[0m\u001b[1;33m,\u001b[0m\u001b[1;36m24\u001b[0m\u001b[1;33m,\u001b[0m\u001b[1;34m\"E&TC\"\u001b[0m\u001b[1;33m,\u001b[0m\u001b[1;34m\"kalyan\"\u001b[0m\u001b[1;33m)\u001b[0m\u001b[1;33m)\u001b[0m\u001b[1;33m\u001b[0m\u001b[1;33m\u001b[0m\u001b[0m\n\u001b[0;32m      3\u001b[0m \u001b[1;32mdel\u001b[0m \u001b[0mmy_list1\u001b[0m\u001b[1;33m\u001b[0m\u001b[1;33m\u001b[0m\u001b[0m\n\u001b[1;32m----> 4\u001b[1;33m \u001b[0mprint\u001b[0m\u001b[1;33m(\u001b[0m\u001b[0mmy_list1\u001b[0m\u001b[1;33m)\u001b[0m\u001b[1;33m\u001b[0m\u001b[1;33m\u001b[0m\u001b[0m\n\u001b[0m",
      "\u001b[1;31mNameError\u001b[0m: name 'my_list1' is not defined"
     ]
    }
   ],
   "source": [
    "\n",
    "my_list1=list((\"Dipika\",24,\"E&TC\",\"kalyan\"))\n",
    "del my_list1\n",
    "print(my_list1)"
   ]
  },
  {
   "cell_type": "markdown",
   "id": "c8e3967f",
   "metadata": {},
   "source": [
    "#17. create a list of prime numbers till 20 and find the length of it"
   ]
  },
  {
   "cell_type": "code",
   "execution_count": 25,
   "id": "049813d7",
   "metadata": {},
   "outputs": [
    {
     "data": {
      "text/plain": [
       "8"
      ]
     },
     "execution_count": 25,
     "metadata": {},
     "output_type": "execute_result"
    }
   ],
   "source": [
    "new_list=[2,3,5,7,11,13,17,19]\n",
    "len(new_list)"
   ]
  },
  {
   "cell_type": "markdown",
   "id": "45e08d9b",
   "metadata": {},
   "source": [
    "#18.create a list of 5,2,18,7,12 and print in ascending and descending order"
   ]
  },
  {
   "cell_type": "code",
   "execution_count": 26,
   "id": "ef21d71e",
   "metadata": {},
   "outputs": [
    {
     "name": "stdout",
     "output_type": "stream",
     "text": [
      "[2, 5, 7, 12, 18]\n"
     ]
    }
   ],
   "source": [
    "#ascending\n",
    "my_list=[5,2,18,7,12]\n",
    "my_list.sort()\n",
    "print(my_list)"
   ]
  },
  {
   "cell_type": "markdown",
   "id": "bdbb959a",
   "metadata": {},
   "source": [
    "#19.merge two list"
   ]
  },
  {
   "cell_type": "code",
   "execution_count": 27,
   "id": "47d5fe71",
   "metadata": {},
   "outputs": [
    {
     "name": "stdout",
     "output_type": "stream",
     "text": [
      "[1, 2, 3, 4, 5, 6, 7, 8]\n"
     ]
    }
   ],
   "source": [
    "#using + operator\n",
    "a=[1,2,3,4]\n",
    "b=[5,6,7,8]\n",
    "c=a+b\n",
    "print(c)"
   ]
  },
  {
   "cell_type": "code",
   "execution_count": 28,
   "id": "a859c8c5",
   "metadata": {},
   "outputs": [
    {
     "name": "stdout",
     "output_type": "stream",
     "text": [
      "['dipika', 'nikita', 'monika', 'pooja', 'sonali', 'monali', 'rupali']\n"
     ]
    }
   ],
   "source": [
    "#using extend\n",
    "a=[\"dipika\",\"nikita\",\"monika\",\"pooja\"]\n",
    "b=[\"sonali\",\"monali\",\"rupali\"]\n",
    "a.extend(b)\n",
    "print(a)"
   ]
  },
  {
   "cell_type": "markdown",
   "id": "55bb9f9f",
   "metadata": {},
   "source": [
    "#20.make a deep copy of list and check whether it is copying deeply or not"
   ]
  },
  {
   "cell_type": "code",
   "execution_count": 39,
   "id": "86360a65",
   "metadata": {},
   "outputs": [
    {
     "name": "stdout",
     "output_type": "stream",
     "text": [
      "['rose', 'mogra', 'jasmin']\n",
      "['rose', 'mogra', 'jasmin', 'tulip']\n",
      "['rose', 'mogra', 'jasmin', 'tulip']\n"
     ]
    }
   ],
   "source": [
    "x= [\"rose\",\"mogra\",\"jasmin\"]\n",
    "#using = operator\n",
    "y = x\n",
    "#printing a new list\n",
    "print(y)\n",
    "\n",
    "\n",
    "# making changes in the original list\n",
    "x.append(\"tulip\")\n",
    "print(x)\n",
    "print(y)"
   ]
  },
  {
   "cell_type": "code",
   "execution_count": null,
   "id": "90879286",
   "metadata": {},
   "outputs": [],
   "source": []
  }
 ],
 "metadata": {
  "kernelspec": {
   "display_name": "Python 3 (ipykernel)",
   "language": "python",
   "name": "python3"
  },
  "language_info": {
   "codemirror_mode": {
    "name": "ipython",
    "version": 3
   },
   "file_extension": ".py",
   "mimetype": "text/x-python",
   "name": "python",
   "nbconvert_exporter": "python",
   "pygments_lexer": "ipython3",
   "version": "3.9.7"
  }
 },
 "nbformat": 4,
 "nbformat_minor": 5
}
